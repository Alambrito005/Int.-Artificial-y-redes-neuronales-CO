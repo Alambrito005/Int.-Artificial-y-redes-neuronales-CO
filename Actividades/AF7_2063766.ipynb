{
  "nbformat": 4,
  "nbformat_minor": 0,
  "metadata": {
    "colab": {
      "provenance": []
    },
    "kernelspec": {
      "name": "python3",
      "display_name": "Python 3"
    },
    "language_info": {
      "name": "python"
    }
  },
  "cells": [
    {
      "cell_type": "markdown",
      "source": [
        "AF 7: Redes Neuronales Artificiales\n",
        "\n"
      ],
      "metadata": {
        "id": "rHjumFNnnRmQ"
      }
    },
    {
      "cell_type": "code",
      "source": [
        "# AF7: Redes Neuronales Artificiales\n",
        "# Horario de clase: N4\n",
        "\n",
        "# IMC\t2003759\tNicolás Israel García Aldana\n",
        "# IMC\t2177765\tAldrin Emmanuel Naranjo Hernández\n",
        "# IMC\t2063766\tAlan Javier Peña Puente\n",
        "# IMC\t2065133\tBrian Alexis Medrano Franco\n",
        "# IMC\t1992270\tIván Alejandro Alvarado Segovia"
      ],
      "metadata": {
        "id": "pMTbyycKntWG"
      },
      "execution_count": 2,
      "outputs": []
    },
    {
      "cell_type": "markdown",
      "source": [
        "1.-Cargamos las librerías"
      ],
      "metadata": {
        "id": "Ym-LpR38nusu"
      }
    },
    {
      "cell_type": "code",
      "execution_count": 3,
      "metadata": {
        "id": "FkMdM5TlDSIa"
      },
      "outputs": [],
      "source": [
        "# Importar librerías necesarias\n",
        "import numpy as np\n",
        "import tensorflow as tf\n",
        "from tensorflow.keras.datasets import mnist\n",
        "from tensorflow.keras.models import Sequential\n",
        "from tensorflow.keras.layers import Dense, Flatten\n",
        "from tensorflow.keras.utils import to_categorical\n",
        "\n",
        "# Fijar semilla para reproducibilidad (opcional)\n",
        "np.random.seed(42)\n",
        "tf.random.set_seed(42)"
      ]
    },
    {
      "cell_type": "markdown",
      "source": [
        "2.-Cargamos y procesamos el conjunto de datos (que contiene las imágenes con números del 0 al 9)"
      ],
      "metadata": {
        "id": "ISk6bHxMn3iu"
      }
    },
    {
      "cell_type": "code",
      "source": [
        "# Cargar el conjunto de datos MNIST (divide en entrenamiento y prueba)\n",
        "(train_images, train_labels), (test_images, test_labels) = mnist.load_data()\n",
        "\n",
        "# 1. Normalización de las imágenes: convertir a flotantes y escalar de 0 a 1\n",
        "# Las imágenes son 28x28 píxeles con valores de 0 a 255.\n",
        "train_images = train_images.astype('float32') / 255\n",
        "test_images = test_images.astype('float32') / 255\n",
        "\n",
        "# 2. Codificación one-hot de las etiquetas: esencial para 'categorical_crossentropy'\n",
        "# Convierte un dígito (ej: 5) en un vector binario (ej: [0,0,0,0,0,1,0,0,0,0])\n",
        "train_labels_one_hot = to_categorical(train_labels, num_classes=10)\n",
        "test_labels_one_hot = to_categorical(test_labels, num_classes=10)\n",
        "\n",
        "print(f\"Imágenes de entrenamiento: {train_images.shape}\")\n",
        "print(f\"Etiquetas one-hot de prueba: {test_labels_one_hot.shape}\")"
      ],
      "metadata": {
        "colab": {
          "base_uri": "https://localhost:8080/"
        },
        "id": "skcrbrDlDVA4",
        "outputId": "bdc15493-8417-4a4a-a0b0-5dc107df9576"
      },
      "execution_count": 4,
      "outputs": [
        {
          "output_type": "stream",
          "name": "stdout",
          "text": [
            "Downloading data from https://storage.googleapis.com/tensorflow/tf-keras-datasets/mnist.npz\n",
            "\u001b[1m11490434/11490434\u001b[0m \u001b[32m━━━━━━━━━━━━━━━━━━━━\u001b[0m\u001b[37m\u001b[0m \u001b[1m0s\u001b[0m 0us/step\n",
            "Imágenes de entrenamiento: (60000, 28, 28)\n",
            "Etiquetas one-hot de prueba: (10000, 10)\n"
          ]
        }
      ]
    },
    {
      "cell_type": "markdown",
      "source": [
        "3.-Definimos y compilamos el modelo"
      ],
      "metadata": {
        "id": "JdNAm5F4oimF"
      }
    },
    {
      "cell_type": "code",
      "source": [
        "# Definición de la estructura de la Red Neuronal Prealimentada (FFNN)\n",
        "model = Sequential([\n",
        "    # Capa 1: Flatten. Aplanar la imagen de 28x28 a un vector de 784\n",
        "    Flatten(input_shape=(28, 28)),\n",
        "\n",
        "    # Capa 2 (Oculta): Capa Densa (Fully Connected)\n",
        "    Dense(128, activation='relu'),\n",
        "\n",
        "    # Capa 3 (Salida): 10 unidades (una por clase), con activación Softmax\n",
        "    Dense(10, activation='softmax')\n",
        "])\n",
        "\n",
        "# Compilación del modelo\n",
        "# Función de pérdida: 'categorical_crossentropy' para clasificación multi-clase con one-hot\n",
        "# Optimizador: 'adam'\n",
        "# Métrica: 'accuracy' (exactitud)\n",
        "model.compile(optimizer='adam',\n",
        "              loss='categorical_crossentropy',\n",
        "              metrics=['accuracy'])\n",
        "\n",
        "print(\"Estructura del modelo:\")\n",
        "model.summary()"
      ],
      "metadata": {
        "colab": {
          "base_uri": "https://localhost:8080/",
          "height": 297
        },
        "id": "ObVZMjhrDYzX",
        "outputId": "1457c71f-c9fb-47f8-8f01-e3f1e353f88f"
      },
      "execution_count": 5,
      "outputs": [
        {
          "output_type": "stream",
          "name": "stdout",
          "text": [
            "Estructura del modelo:\n"
          ]
        },
        {
          "output_type": "stream",
          "name": "stderr",
          "text": [
            "/usr/local/lib/python3.12/dist-packages/keras/src/layers/reshaping/flatten.py:37: UserWarning: Do not pass an `input_shape`/`input_dim` argument to a layer. When using Sequential models, prefer using an `Input(shape)` object as the first layer in the model instead.\n",
            "  super().__init__(**kwargs)\n"
          ]
        },
        {
          "output_type": "display_data",
          "data": {
            "text/plain": [
              "\u001b[1mModel: \"sequential\"\u001b[0m\n"
            ],
            "text/html": [
              "<pre style=\"white-space:pre;overflow-x:auto;line-height:normal;font-family:Menlo,'DejaVu Sans Mono',consolas,'Courier New',monospace\"><span style=\"font-weight: bold\">Model: \"sequential\"</span>\n",
              "</pre>\n"
            ]
          },
          "metadata": {}
        },
        {
          "output_type": "display_data",
          "data": {
            "text/plain": [
              "┏━━━━━━━━━━━━━━━━━━━━━━━━━━━━━━━━━┳━━━━━━━━━━━━━━━━━━━━━━━━┳━━━━━━━━━━━━━━━┓\n",
              "┃\u001b[1m \u001b[0m\u001b[1mLayer (type)                   \u001b[0m\u001b[1m \u001b[0m┃\u001b[1m \u001b[0m\u001b[1mOutput Shape          \u001b[0m\u001b[1m \u001b[0m┃\u001b[1m \u001b[0m\u001b[1m      Param #\u001b[0m\u001b[1m \u001b[0m┃\n",
              "┡━━━━━━━━━━━━━━━━━━━━━━━━━━━━━━━━━╇━━━━━━━━━━━━━━━━━━━━━━━━╇━━━━━━━━━━━━━━━┩\n",
              "│ flatten (\u001b[38;5;33mFlatten\u001b[0m)               │ (\u001b[38;5;45mNone\u001b[0m, \u001b[38;5;34m784\u001b[0m)            │             \u001b[38;5;34m0\u001b[0m │\n",
              "├─────────────────────────────────┼────────────────────────┼───────────────┤\n",
              "│ dense (\u001b[38;5;33mDense\u001b[0m)                   │ (\u001b[38;5;45mNone\u001b[0m, \u001b[38;5;34m128\u001b[0m)            │       \u001b[38;5;34m100,480\u001b[0m │\n",
              "├─────────────────────────────────┼────────────────────────┼───────────────┤\n",
              "│ dense_1 (\u001b[38;5;33mDense\u001b[0m)                 │ (\u001b[38;5;45mNone\u001b[0m, \u001b[38;5;34m10\u001b[0m)             │         \u001b[38;5;34m1,290\u001b[0m │\n",
              "└─────────────────────────────────┴────────────────────────┴───────────────┘\n"
            ],
            "text/html": [
              "<pre style=\"white-space:pre;overflow-x:auto;line-height:normal;font-family:Menlo,'DejaVu Sans Mono',consolas,'Courier New',monospace\">┏━━━━━━━━━━━━━━━━━━━━━━━━━━━━━━━━━┳━━━━━━━━━━━━━━━━━━━━━━━━┳━━━━━━━━━━━━━━━┓\n",
              "┃<span style=\"font-weight: bold\"> Layer (type)                    </span>┃<span style=\"font-weight: bold\"> Output Shape           </span>┃<span style=\"font-weight: bold\">       Param # </span>┃\n",
              "┡━━━━━━━━━━━━━━━━━━━━━━━━━━━━━━━━━╇━━━━━━━━━━━━━━━━━━━━━━━━╇━━━━━━━━━━━━━━━┩\n",
              "│ flatten (<span style=\"color: #0087ff; text-decoration-color: #0087ff\">Flatten</span>)               │ (<span style=\"color: #00d7ff; text-decoration-color: #00d7ff\">None</span>, <span style=\"color: #00af00; text-decoration-color: #00af00\">784</span>)            │             <span style=\"color: #00af00; text-decoration-color: #00af00\">0</span> │\n",
              "├─────────────────────────────────┼────────────────────────┼───────────────┤\n",
              "│ dense (<span style=\"color: #0087ff; text-decoration-color: #0087ff\">Dense</span>)                   │ (<span style=\"color: #00d7ff; text-decoration-color: #00d7ff\">None</span>, <span style=\"color: #00af00; text-decoration-color: #00af00\">128</span>)            │       <span style=\"color: #00af00; text-decoration-color: #00af00\">100,480</span> │\n",
              "├─────────────────────────────────┼────────────────────────┼───────────────┤\n",
              "│ dense_1 (<span style=\"color: #0087ff; text-decoration-color: #0087ff\">Dense</span>)                 │ (<span style=\"color: #00d7ff; text-decoration-color: #00d7ff\">None</span>, <span style=\"color: #00af00; text-decoration-color: #00af00\">10</span>)             │         <span style=\"color: #00af00; text-decoration-color: #00af00\">1,290</span> │\n",
              "└─────────────────────────────────┴────────────────────────┴───────────────┘\n",
              "</pre>\n"
            ]
          },
          "metadata": {}
        },
        {
          "output_type": "display_data",
          "data": {
            "text/plain": [
              "\u001b[1m Total params: \u001b[0m\u001b[38;5;34m101,770\u001b[0m (397.54 KB)\n"
            ],
            "text/html": [
              "<pre style=\"white-space:pre;overflow-x:auto;line-height:normal;font-family:Menlo,'DejaVu Sans Mono',consolas,'Courier New',monospace\"><span style=\"font-weight: bold\"> Total params: </span><span style=\"color: #00af00; text-decoration-color: #00af00\">101,770</span> (397.54 KB)\n",
              "</pre>\n"
            ]
          },
          "metadata": {}
        },
        {
          "output_type": "display_data",
          "data": {
            "text/plain": [
              "\u001b[1m Trainable params: \u001b[0m\u001b[38;5;34m101,770\u001b[0m (397.54 KB)\n"
            ],
            "text/html": [
              "<pre style=\"white-space:pre;overflow-x:auto;line-height:normal;font-family:Menlo,'DejaVu Sans Mono',consolas,'Courier New',monospace\"><span style=\"font-weight: bold\"> Trainable params: </span><span style=\"color: #00af00; text-decoration-color: #00af00\">101,770</span> (397.54 KB)\n",
              "</pre>\n"
            ]
          },
          "metadata": {}
        },
        {
          "output_type": "display_data",
          "data": {
            "text/plain": [
              "\u001b[1m Non-trainable params: \u001b[0m\u001b[38;5;34m0\u001b[0m (0.00 B)\n"
            ],
            "text/html": [
              "<pre style=\"white-space:pre;overflow-x:auto;line-height:normal;font-family:Menlo,'DejaVu Sans Mono',consolas,'Courier New',monospace\"><span style=\"font-weight: bold\"> Non-trainable params: </span><span style=\"color: #00af00; text-decoration-color: #00af00\">0</span> (0.00 B)\n",
              "</pre>\n"
            ]
          },
          "metadata": {}
        }
      ]
    },
    {
      "cell_type": "markdown",
      "source": [
        "4.-Entrenamiento del modelo"
      ],
      "metadata": {
        "id": "-vLvoJ9Youvk"
      }
    },
    {
      "cell_type": "code",
      "source": [
        "print(\"Iniciando el entrenamiento...\")\n",
        "\n",
        "# Entrenamiento del modelo\n",
        "history = model.fit(train_images,\n",
        "                    train_labels_one_hot,\n",
        "                    epochs=10,        # Número de épocas\n",
        "                    batch_size=32,    # Tamaño del lote\n",
        "                    verbose=1)\n",
        "\n",
        "print(\"Entrenamiento finalizado.\")"
      ],
      "metadata": {
        "colab": {
          "base_uri": "https://localhost:8080/"
        },
        "id": "J5zPfQ32Dai4",
        "outputId": "2129bf90-99ac-4f97-9000-d534bb74bd80"
      },
      "execution_count": 6,
      "outputs": [
        {
          "output_type": "stream",
          "name": "stdout",
          "text": [
            "Iniciando el entrenamiento...\n",
            "Epoch 1/10\n",
            "\u001b[1m1875/1875\u001b[0m \u001b[32m━━━━━━━━━━━━━━━━━━━━\u001b[0m\u001b[37m\u001b[0m \u001b[1m12s\u001b[0m 6ms/step - accuracy: 0.8801 - loss: 0.4276\n",
            "Epoch 2/10\n",
            "\u001b[1m1875/1875\u001b[0m \u001b[32m━━━━━━━━━━━━━━━━━━━━\u001b[0m\u001b[37m\u001b[0m \u001b[1m10s\u001b[0m 5ms/step - accuracy: 0.9639 - loss: 0.1234\n",
            "Epoch 3/10\n",
            "\u001b[1m1875/1875\u001b[0m \u001b[32m━━━━━━━━━━━━━━━━━━━━\u001b[0m\u001b[37m\u001b[0m \u001b[1m11s\u001b[0m 6ms/step - accuracy: 0.9761 - loss: 0.0805\n",
            "Epoch 4/10\n",
            "\u001b[1m1875/1875\u001b[0m \u001b[32m━━━━━━━━━━━━━━━━━━━━\u001b[0m\u001b[37m\u001b[0m \u001b[1m10s\u001b[0m 5ms/step - accuracy: 0.9829 - loss: 0.0587\n",
            "Epoch 5/10\n",
            "\u001b[1m1875/1875\u001b[0m \u001b[32m━━━━━━━━━━━━━━━━━━━━\u001b[0m\u001b[37m\u001b[0m \u001b[1m10s\u001b[0m 5ms/step - accuracy: 0.9883 - loss: 0.0435\n",
            "Epoch 6/10\n",
            "\u001b[1m1875/1875\u001b[0m \u001b[32m━━━━━━━━━━━━━━━━━━━━\u001b[0m\u001b[37m\u001b[0m \u001b[1m10s\u001b[0m 5ms/step - accuracy: 0.9917 - loss: 0.0326\n",
            "Epoch 7/10\n",
            "\u001b[1m1875/1875\u001b[0m \u001b[32m━━━━━━━━━━━━━━━━━━━━\u001b[0m\u001b[37m\u001b[0m \u001b[1m10s\u001b[0m 5ms/step - accuracy: 0.9938 - loss: 0.0246\n",
            "Epoch 8/10\n",
            "\u001b[1m1875/1875\u001b[0m \u001b[32m━━━━━━━━━━━━━━━━━━━━\u001b[0m\u001b[37m\u001b[0m \u001b[1m9s\u001b[0m 5ms/step - accuracy: 0.9954 - loss: 0.0191\n",
            "Epoch 9/10\n",
            "\u001b[1m1875/1875\u001b[0m \u001b[32m━━━━━━━━━━━━━━━━━━━━\u001b[0m\u001b[37m\u001b[0m \u001b[1m10s\u001b[0m 5ms/step - accuracy: 0.9959 - loss: 0.0162\n",
            "Epoch 10/10\n",
            "\u001b[1m1875/1875\u001b[0m \u001b[32m━━━━━━━━━━━━━━━━━━━━\u001b[0m\u001b[37m\u001b[0m \u001b[1m10s\u001b[0m 5ms/step - accuracy: 0.9966 - loss: 0.0131\n",
            "Entrenamiento finalizado.\n"
          ]
        }
      ]
    },
    {
      "cell_type": "markdown",
      "source": [
        "5.-Evaluamos el modelo"
      ],
      "metadata": {
        "id": "M6LrY5aKoyf0"
      }
    },
    {
      "cell_type": "code",
      "source": [
        "print(\"Evaluando el modelo con el conjunto de prueba...\")\n",
        "\n",
        "# Uso de la función 'evaluate'\n",
        "# Devuelve la pérdida (loss) y las métricas (accuracy)\n",
        "loss, accuracy = model.evaluate(test_images, test_labels_one_hot, verbose=0)\n",
        "\n",
        "print(f'\\n================================================')\n",
        "print(f'| Exactitud (Accuracy) en datos de prueba: {accuracy*100:.2f}% |')\n",
        "print(f'================================================')"
      ],
      "metadata": {
        "colab": {
          "base_uri": "https://localhost:8080/"
        },
        "id": "QIUgsNqQDccX",
        "outputId": "422f55fc-850e-4580-f621-5a716beb80ee"
      },
      "execution_count": 7,
      "outputs": [
        {
          "output_type": "stream",
          "name": "stdout",
          "text": [
            "Evaluando el modelo con el conjunto de prueba...\n",
            "\n",
            "================================================\n",
            "| Exactitud (Accuracy) en datos de prueba: 97.68% |\n",
            "================================================\n"
          ]
        }
      ]
    },
    {
      "cell_type": "markdown",
      "source": [
        "6.-Hacemos las 5 predicciones"
      ],
      "metadata": {
        "id": "zvdPpI18o15s"
      }
    },
    {
      "cell_type": "code",
      "source": [
        "print(\"Realizando 5 predicciones al azar...\")\n",
        "\n",
        "# Seleccionamos 5 índices aleatorios del conjunto de prueba\n",
        "indices = np.random.choice(len(test_images), 5, replace=False)\n",
        "\n",
        "print(\"\\n| Índice de Prueba | Predicción | Valor Real | Confianza (%) |\")\n",
        "print(\"|------------------|------------|------------|---------------|\")\n",
        "\n",
        "for i in indices:\n",
        "    # 1. Obtenemos la imagen y reformarla para 'predict'\n",
        "    img_to_predict = test_images[i:i+1]\n",
        "\n",
        "    # 2. Predecir (obtiene un array de probabilidades)\n",
        "    predictions = model.predict(img_to_predict, verbose=0)\n",
        "\n",
        "    # 3. La clase predicha es el índice con la mayor probabilidad\n",
        "    predicted_label = np.argmax(predictions[0])\n",
        "\n",
        "    # 4. Obtenemos el valor real (etiqueta original sin one-hot)\n",
        "    true_label = test_labels[i]\n",
        "\n",
        "    # 5. Obtenemos la confianza (probabilidad más alta)\n",
        "    confidence = np.max(predictions[0]) * 100\n",
        "\n",
        "    # Mostrar el resultado\n",
        "    print(f\"| {i:<16} | {predicted_label:<10} | {true_label:<10} | {confidence:.2f} % |\")"
      ],
      "metadata": {
        "colab": {
          "base_uri": "https://localhost:8080/"
        },
        "id": "mHRsEmOWDe1P",
        "outputId": "38d70dd3-e569-4d07-97f6-395216f792a2"
      },
      "execution_count": 8,
      "outputs": [
        {
          "output_type": "stream",
          "name": "stdout",
          "text": [
            "Realizando 5 predicciones al azar...\n",
            "\n",
            "| Índice de Prueba | Predicción | Valor Real | Confianza (%) |\n",
            "|------------------|------------|------------|---------------|\n",
            "| 6252             | 6          | 6          | 100.00 % |\n",
            "| 4684             | 2          | 2          | 100.00 % |\n",
            "| 1731             | 3          | 3          | 100.00 % |\n",
            "| 4742             | 7          | 7          | 99.99 % |\n",
            "| 4521             | 2          | 2          | 99.99 % |\n"
          ]
        }
      ]
    }
  ]
}